{
 "cells": [
  {
   "cell_type": "markdown",
   "metadata": {
    "id": "ohTQB-OV8IUL"
   },
   "source": [
    "# Chapter 2: Tracking number of steps (Pedometer)  \n",
    "\n",
    "Pedometers are popular as an everyday exercise progress monitor and motivator. We look at the steps to go from 3-axis accelerometer readings to counting steps. Note that there are multiple ways to approach this problem, and what is described below is one approach that you will try to complete.\n",
    "\n",
    "In this assignment, you are given a number of sample sensor logs and you are asked to write an algorithm to count the number of steps. The different logs correspond to different sensor placements (left pocket, right pocket, wrist), and to different walking patterns (e.g. with delays between short burst of steps). The title of each log says how many steps are present; try to get reasonably close to this number.\n",
    "\n",
    "**NOTE: Do not aim for perfect step counting results; rather try to create an algorithm that is reasonably close to the actual number of steps. Also, keep the algorithm simple and do not over-optimize to the data** "
   ]
  },
  {
   "cell_type": "code",
   "execution_count": null,
   "metadata": {
    "id": "-bceFVZ68IUS"
   },
   "outputs": [],
   "source": [
    "import glob\n",
    "import matplotlib\n",
    "import sys\n",
    "import math\n",
    "import numpy as np\n",
    "import pandas as pd\n",
    "from scipy import signal\n",
    "import matplotlib.pyplot as plt\n",
    "from scipy.signal import butter, lfilter, freqz, iirnotch, filtfilt, firwin\n",
    "\n",
    "# enable zooming into graphs\n",
    "%matplotlib notebook\n",
    "matplotlib.rcParams['figure.figsize'] = (10, 5) "
   ]
  },
  {
   "cell_type": "markdown",
   "metadata": {
    "id": "yb1rw_w68IUT"
   },
   "source": [
    "## Converting a 3-axis accelerometer signal into a 1-dimensional signal\n",
    "\n",
    "The first step is somehow converting a 3-axis accelerometer signal into a one-dimensional signal that we can use for detecting peaks. "
   ]
  },
  {
   "cell_type": "code",
   "execution_count": null,
   "metadata": {
    "id": "qlBeiPbc8IUT"
   },
   "outputs": [],
   "source": [
    "# Load in the data from one of the files. \n",
    "\n",
    "log_filename = 'data/Steps-Logs/D1_accel_lefthoodiepocket_3sets_15steps_delay.csv'\n",
    "# log_filename = 'data/Steps-Logs/D2_accel_leftwrist_3sets_15steps_delay.csv'\n",
    "# log_filename = 'data/Steps-Logs/D3_accel_leftwrist_3sets_15steps_nodelay.csv'\n",
    "# log_filename = 'data/Steps-Logs/D4_accel_leftwrist_15steps_3hops_3halfspin_3touchceiling_thenshake_nodelay.csv'\n",
    "# log_filename = 'data/Steps-Logs/D5_accel_leftwrist2_3sets_15steps_delay.csv'\n",
    "# log_filename = 'data/Steps-Logs/D6_accel_leftwrist3_3sets_15steps_delay.csv'\n",
    "# log_filename = 'data/Steps-Logs/D7_accel_righthoodiepocket_3sets_15steps_delay.csv'\n",
    "# log_filename = 'data/Steps-Logs/D8_accel_righthoodiepocket_3sets_15steps_delay2.csv'\n",
    "# log_filename = 'data/Steps-Logs/D9_accel_rightpocket_3sets_15steps_delay.csv'\n",
    "# log_filename = 'data/Steps-Logs/D10_accel_rightpocket2_2sets_15steps_delay.csv'\n",
    "\n",
    "import numpy as np \n",
    "import pandas as pd\n",
    "from datetime import datetime\n",
    "\n",
    "log_filenames = ['data/Steps-Logs/D1_accel_lefthoodiepocket_3sets_15steps_delay.csv', \n",
    "                 'data/Steps-Logs/D2_accel_leftwrist_3sets_15steps_delay.csv',\n",
    "                 'data/Steps-Logs/D3_accel_leftwrist_3sets_15steps_nodelay.csv',\n",
    "                 'data/Steps-Logs/D4_accel_leftwrist_15steps_3hops_3halfspin_3touchceiling_thenshake_nodelay.csv',\n",
    "                 'data/Steps-Logs/D5_accel_leftwrist2_3sets_15steps_delay.csv',\n",
    "                 'data/Steps-Logs/D6_accel_leftwrist3_3sets_15steps_delay.csv',\n",
    "                 'data/Steps-Logs/D7_accel_righthoodiepocket_3sets_15steps_delay.csv',\n",
    "                 'data/Steps-Logs/D8_accel_righthoodiepocket_3sets_15steps_delay2.csv',\n",
    "                 'data/Steps-Logs/D9_accel_rightpocket_3sets_15steps_delay.csv',\n",
    "                 'data/Steps-Logs/D10_accel_rightpocket2_2sets_15steps_delay.csv']\n",
    "\n",
    "for i, log_filename in enumerate(log_filenames):\n",
    "\n",
    "    raw_data = np.loadtxt(log_filename, delimiter=',', unpack=True, skiprows=0)\n",
    "\n",
    "    accel_time, accel_x, accel_y, accel_z = raw_data\n",
    "\n",
    "    accel_mag = np.sqrt(accel_x**2 + accel_y**2 + accel_z**2)\n",
    "\n",
    "    # Generate datetime timestamps \n",
    "    start_time = datetime.fromtimestamp(accel_time[0]/1000)\n",
    "    timestamps = [start_time + timedelta(milliseconds=t) for t in accel_time]\n",
    "\n",
    "    # Write to new file \n",
    "    dataframe = pd.DataFrame({'time': timestamps, 'accel_mag': accel_mag})\n",
    "    out_filename = 'D{}.csv'.format(i+1)\n",
    "    dataframe.to_csv(out_filename, index=False)"
   ]
  },
  {
   "cell_type": "markdown",
   "metadata": {
    "id": "wtbw5KCm8IUU"
   },
   "source": [
    "### Plotting x, y, and z axes\n",
    "\n",
    "A key challenge in step counting is dealing with differences across individuals (some have a balanced gait; others have a more imbalanced gait) and across different sensor placements. In addition, walking is not continuous, and sometimes people may stop and then continue walking. It is important to be careful about such changes since the threshold values will change depending on the current activity. If you count peaks or zero crossings while the person is stationary, there might appear to be many peaks since the signal is oscillating slightly around the mean but you should ignore these cases."
   ]
  },
  {
   "cell_type": "markdown",
   "metadata": {
    "id": "YWrMaCgb8IUU"
   },
   "source": [
    "**ASSIGNMENT:** Plot acceleration readings along each of the three axes on a single graph."
   ]
  },
  {
   "cell_type": "code",
   "execution_count": null,
   "metadata": {
    "id": "AV0uxBY18IUV",
    "scrolled": false
   },
   "outputs": [],
   "source": [
    "# FILL IN CODE: plot three-axis acceleration"
   ]
  },
  {
   "cell_type": "markdown",
   "metadata": {
    "id": "iLWc_qfj8IUV"
   },
   "source": [
    "### Using magnitude rather than 3-axis signal\n",
    "\n",
    "One issue with using the 3 axis signal directly is that the shape of the x, y, z curves depends on the orientation of the phone (or smartwatch) While the figure shows the x-axis acceleration (in red) to be the largest, this may not be the case if the x-axis is oriented along the horizontal plane. More generally, the acceleration changes as a result of the step can result in changes along all the three axes, so we need to design an orientation-independent algorithm. The easiest way to do this is to use the magnitude of the signal across all the three axes."
   ]
  },
  {
   "cell_type": "markdown",
   "metadata": {
    "id": "wY9WUPSC8IUV"
   },
   "source": [
    "**ASSIGNMENT:** Plot the magnitude of acceleration"
   ]
  },
  {
   "cell_type": "code",
   "execution_count": null,
   "metadata": {
    "id": "BavpAAyd8IUV"
   },
   "outputs": [],
   "source": [
    "# FILL IN CODE: plot acceleration magnitude"
   ]
  },
  {
   "cell_type": "markdown",
   "metadata": {
    "id": "bkSMfNUV8IUW"
   },
   "source": [
    "### Cleaning the accelerometer magnitude signal with a butterworth filter\n",
    "\n",
    "We are now going to use a frequency domain filter called a 'butterworth filter' to remove noise (see previous notebook for further explanation of frequency-domain filtering). A Butterworth filter is a popular frequency domain 'lowpass' filter that can remove high frequency noise while only letting the low frequencies through. Since the walking signal is low frequency (only a few steps minute), this is a good approach."
   ]
  },
  {
   "cell_type": "markdown",
   "metadata": {
    "id": "7mWt08Wi8IUW"
   },
   "source": [
    "**ASSIGNMENT:** Apply a Butterworth filter (as demonstrated in the previous notebook) and plot both unfiltered and filtered accelerometer signals (magnitude only)."
   ]
  },
  {
   "cell_type": "code",
   "execution_count": null,
   "metadata": {
    "id": "UjGBblfK8IUW",
    "scrolled": false
   },
   "outputs": [],
   "source": [
    "# FILL IN CODE: Create and apply Butterworth filter"
   ]
  },
  {
   "cell_type": "code",
   "execution_count": null,
   "metadata": {
    "id": "glTxLsMB8IUW"
   },
   "outputs": [],
   "source": [
    "# FILL IN CODE: Plot original and filtered signals"
   ]
  },
  {
   "cell_type": "markdown",
   "metadata": {
    "id": "2UWFacTN8IUX"
   },
   "source": [
    "# Write your step counter algorithm\n",
    "\n",
    "Our next problem is to determine when a step occurs. From looking at the figure, you could probably come up with a few potential algorithms. Here are some steps to follow:\n",
    "\n",
    "1. Smooth and filter out noise in your signal using the butterworth filter as above.\n",
    "\n",
    "\n",
    "2. Write your step counter algorithm. You can choose any way to do this but generally it helps to think about the main characteristics of the signal that can help detect steps:\n",
    "\n",
    "    * For example, if we could extract the peak point of each step, we can simply count the steps. \n",
    "    * We could also look for zero crossings, which means looking for crossings of the mean value in the downward (or upward) direction. \n",
    "    * To avoid false peaks from being detected, maybe you can only detect peaks within a certain min/max threshold.\n",
    "    * To ensure that the peaks correspond to steps, maybe enforce a minimum peak distance between two detected \"walking\" peaks. \n",
    "    * Or enforce that all recognized steps come in a minimum set of 2 or 3\n",
    "    * ... and many other ways.\n",
    "\n",
    "\n",
    "3. Optimize your algorithm to work across many scenarios. The 12 log files correspond to different positions of the accelerometer sensor (left vs right pocket; hand vs pocket etc). Try to optimize your algorithm so it works across different datasets. Note that it is hard to get steps perfectly and there is always some error. Try to reduce error to the extent possible. Tell us what you did to minimize error.\n"
   ]
  },
  {
   "cell_type": "markdown",
   "metadata": {
    "id": "MOk9PwTh8IUX"
   },
   "source": [
    "**ASSIGNMENT:** From the filtered signal, determine the number of steps taken by the person. You can use one of the abovementioned methods or implement your own algorithm to do so. Plot the filtered signal and the detected steps."
   ]
  },
  {
   "cell_type": "code",
   "execution_count": null,
   "metadata": {
    "id": "2Al48CZL8IUX",
    "scrolled": true
   },
   "outputs": [],
   "source": [
    "# FILL IN CODE: Step counting algorithm"
   ]
  },
  {
   "cell_type": "code",
   "execution_count": null,
   "metadata": {
    "id": "-Wezya298IUX"
   },
   "outputs": [],
   "source": [
    "# FILL IN CODE: Plot the signal and mark the points where your algorithm detects steps"
   ]
  },
  {
   "cell_type": "markdown",
   "metadata": {
    "id": "wxakofuU8IUY"
   },
   "source": [
    "### Step counting accuracy\n",
    "\n",
    "**ASSIGNMENT:** Complete the table below with the number of steps that you have counted for each of the data logs provided above. Example below (update):\n",
    "\n",
    "| D# | Actual Steps | Steps Counted | Accuracy |\n",
    "| --- | --- | --- | --- |\n",
    "| D1 | 45 |  |  |\n",
    "| D2 | 45 |  |  |\n",
    "| D3 | 45 |  |  |\n",
    "| D4 | 45 |  |  |\n",
    "| D5 | 45 |  |  |\n",
    "| D6 | 45 |  |  |\n",
    "| D7 | 45 |  |  |\n",
    "| D8 | 45 |  |  |\n",
    "| D9 | 45 |  |  |\n",
    "| D10 | 30 |  |  |"
   ]
  },
  {
   "cell_type": "markdown",
   "metadata": {
    "id": "PO2Arg6o8IUY"
   },
   "source": [
    "## Simulate a \"real-time\" step counting system\n",
    "\n",
    "Since the next assignment will involve live step counting, let us now adapt your algorithm to a \"real-time\" version. The main difference is that you will be operating on data in batches since you will be reading in values from the accelerometer, buffering samples and then processing the signal. Once you process data for a window, you will move on to the next window and so on.\n",
    "\n",
    "**ASSIGNMENT:** For the real-time step counting system, select a window of 1 second of data at a time, filter the data using a butterworth filter, and run the step detection algorithm. Plot the resulting filtered signal and the peaks that you have identified."
   ]
  },
  {
   "cell_type": "code",
   "execution_count": null,
   "metadata": {
    "id": "aw8HEtJj8IUY"
   },
   "outputs": [],
   "source": [
    "# FILL IN CODE: Complete the real-time step counting algorithm and fill in the peak_locations array"
   ]
  },
  {
   "cell_type": "code",
   "execution_count": null,
   "metadata": {
    "id": "KpKdhiss8IUZ",
    "outputId": "19c5ed97-8463-413e-ea76-481118b46d8b",
    "scrolled": false
   },
   "outputs": [
    {
     "name": "stdout",
     "output_type": "stream",
     "text": [
      "Found 0 peaks\n"
     ]
    }
   ],
   "source": [
    "sampling_rate = 50\n",
    "buffer_window_size = 100 # pick a reasonable window size, e.g. 1 second or few seconds.\n",
    "\n",
    "peak_locations = []\n",
    "\n",
    "for i in range(0, len(accel_mag), buffer_window_size - 1):\n",
    "    \n",
    "    # overlap our buffer by one sample between windows\n",
    "    buffer = accel_mag[i:i+buffer_window_size]\n",
    "    \n",
    "    # FILL IN CODE: Filter the magnitude signal using the butterworth filter\n",
    "    # Note: Butterworth filter will fail if number of samples < 18, so ignore last window if you have too few samples\n",
    "\n",
    "    # FILL IN CODE: Run your step detection algorithm on the window.\n",
    "    \n",
    "print(\"Found {} peaks\".format(len(peak_locations)))   "
   ]
  },
  {
   "cell_type": "code",
   "execution_count": null,
   "metadata": {
    "id": "qrJjk29d8IUa"
   },
   "outputs": [],
   "source": [
    "# FILL IN CODE: Plot the signal and mark the points where your algorithm detects steps"
   ]
  },
  {
   "cell_type": "markdown",
   "metadata": {
    "id": "WeGN2DDd8IUa"
   },
   "source": [
    "### Real-time step counting accuracy\n",
    "\n",
    "**ASSIGNMENT:** Complete the table below with the number of steps that you have counted for each of the data logs provided above. Example below (update):\n",
    "\n",
    "| D# | Actual Steps | Steps Counted | Accuracy |\n",
    "| --- | --- | --- | --- |\n",
    "| D1 | 45 |  |  |\n",
    "| D2 | 45 |  |  |\n",
    "| D3 | 45 |  |  |\n",
    "| D4 | 45 |  |  |\n",
    "| D5 | 45 |  |  |\n",
    "| D6 | 45 |  |  |\n",
    "| D7 | 45 |  |  |\n",
    "| D8 | 45 |  |  |\n",
    "| D9 | 45 |  |  |\n",
    "| D10 | 30 |  |  |"
   ]
  },
  {
   "cell_type": "markdown",
   "metadata": {
    "id": "pUsokOS98IUa"
   },
   "source": [
    "## List contribution of individual team members\n",
    "\n",
    "List the team members and who contributed to what aspect of the assignment. \n",
    "\n",
    "Member 1:\n",
    "\n",
    "Member 2:\n",
    "\n",
    "Member 3:"
   ]
  }
 ],
 "metadata": {
  "colab": {
   "provenance": []
  },
  "kernelspec": {
   "display_name": "Python 3",
   "language": "python",
   "name": "python3"
  },
  "language_info": {
   "codemirror_mode": {
    "name": "ipython",
    "version": 3
   },
   "file_extension": ".py",
   "mimetype": "text/x-python",
   "name": "python",
   "nbconvert_exporter": "python",
   "pygments_lexer": "ipython3",
   "version": "3.9.0"
  }
 },
 "nbformat": 4,
 "nbformat_minor": 1
}
